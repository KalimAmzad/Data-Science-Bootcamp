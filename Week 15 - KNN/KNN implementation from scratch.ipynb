{
 "cells": [
  {
   "cell_type": "markdown",
   "id": "262ed3ab",
   "metadata": {},
   "source": [
    "# Import Libraries"
   ]
  },
  {
   "cell_type": "code",
   "execution_count": 20,
   "id": "eb818fdc",
   "metadata": {},
   "outputs": [],
   "source": [
    "import numpy as np\n",
    "import pandas as pd\n",
    "from sklearn.model_selection import train_test_split, KFold\n",
    "from sklearn.metrics import confusion_matrix\n",
    "from collections import Counter"
   ]
  },
  {
   "cell_type": "code",
   "execution_count": 21,
   "id": "6f7a001b",
   "metadata": {},
   "outputs": [],
   "source": [
    "import math"
   ]
  },
  {
   "cell_type": "markdown",
   "id": "81770f9a",
   "metadata": {},
   "source": [
    "# Distance Measurement methods"
   ]
  },
  {
   "cell_type": "code",
   "execution_count": 14,
   "id": "ab18191a",
   "metadata": {},
   "outputs": [],
   "source": [
    "def euclidean_distance(x1, x2):\n",
    "    return np.sqrt(np.sum((x1 - x2)**2))"
   ]
  },
  {
   "cell_type": "code",
   "execution_count": 22,
   "id": "3ea28d46",
   "metadata": {},
   "outputs": [],
   "source": [
    "def modified_euc_dis(x1, x2):\n",
    "    total_sum = 0\n",
    "    for i, j in zip(x1, x2):\n",
    "        total_sum += (i-j)**2\n",
    "    return math.sqrt(total_sum)"
   ]
  },
  {
   "cell_type": "code",
   "execution_count": 31,
   "id": "6c01af38",
   "metadata": {},
   "outputs": [],
   "source": [
    "x3 = np.array([3, 6, 7.5, 2.5]*1000)\n",
    "x17 = np.array([6, 2.9, 6.8, 3.5]*1000)"
   ]
  },
  {
   "cell_type": "code",
   "execution_count": 32,
   "id": "9e3a23c4",
   "metadata": {},
   "outputs": [
    {
     "name": "stdout",
     "output_type": "stream",
     "text": [
      "141.77446878757826\n",
      "CPU times: user 144 µs, sys: 63 µs, total: 207 µs\n",
      "Wall time: 188 µs\n"
     ]
    }
   ],
   "source": [
    "%%time\n",
    "print(euclidean_distance(x3, x17))"
   ]
  },
  {
   "cell_type": "code",
   "execution_count": 33,
   "id": "293ab4e5",
   "metadata": {},
   "outputs": [
    {
     "name": "stdout",
     "output_type": "stream",
     "text": [
      "141.77446878757976\n",
      "CPU times: user 4.2 ms, sys: 391 µs, total: 4.59 ms\n",
      "Wall time: 4.73 ms\n"
     ]
    }
   ],
   "source": [
    "%%time\n",
    "print(modified_euc_dis(x3, x17))"
   ]
  },
  {
   "cell_type": "code",
   "execution_count": 107,
   "id": "f9dc1bc0",
   "metadata": {},
   "outputs": [],
   "source": [
    "def manhattan_distance(x1, x2):\n",
    "    return np.sum(np.abs(x1 - x2))"
   ]
  },
  {
   "cell_type": "code",
   "execution_count": 106,
   "id": "8fbd665a",
   "metadata": {},
   "outputs": [],
   "source": [
    "def minkowski_distance(x1, x2, p=3):\n",
    "    return np.power(np.sum(np.power(np.abs(x1 - x2), p)), 1/p)"
   ]
  },
  {
   "cell_type": "code",
   "execution_count": 105,
   "id": "32d5a29c",
   "metadata": {},
   "outputs": [],
   "source": [
    "def cosine_distance(x1, x2):\n",
    "    return 1 - cosine_similarity([x1], [x2])[0][0]"
   ]
  },
  {
   "cell_type": "code",
   "execution_count": 10,
   "id": "4fbfcf5c",
   "metadata": {},
   "outputs": [],
   "source": [
    "def knn(x_train, y_train, x_val, k, distance_measure='euclidean'):\n",
    "    if distance_measure == 'euclidean':\n",
    "        distance_fn = euclidean_distance\n",
    "    elif distance_measure == 'manhattan':\n",
    "        distance_fn = manhattan_distance\n",
    "    elif distance_measure == 'minkowski':\n",
    "        distance_fn = lambda x1, x2: minkowski_distance(x1, x2, p=3)\n",
    "    elif distance_measure == 'cosine':\n",
    "        distance_fn = cosine_distance\n",
    "    else:\n",
    "        raise ValueError(\"Invalid distance measure\")\n",
    "        \n",
    "    distances = []\n",
    "    for i in range(len(x_train)):\n",
    "        distance = distance_fn(x_train[i], x_val)\n",
    "        distances.append((distance, y_train[i]))\n",
    "    distances = sorted(distances)\n",
    "    targets = [y for _, y in distances[:k]]\n",
    "    return Counter(targets).most_common(1)[0][0]"
   ]
  },
  {
   "cell_type": "code",
   "execution_count": 116,
   "id": "3a9f4750",
   "metadata": {},
   "outputs": [
    {
     "data": {
      "text/plain": [
       "2"
      ]
     },
     "execution_count": 116,
     "metadata": {},
     "output_type": "execute_result"
    }
   ],
   "source": [
    "Counter(targets).most_common(1)[0][0]"
   ]
  },
  {
   "cell_type": "code",
   "execution_count": 62,
   "id": "dd9c0d11",
   "metadata": {},
   "outputs": [],
   "source": [
    "# Load the iris dataset\n",
    "data = pd.read_csv('https://archive.ics.uci.edu/ml/machine-learning-databases/iris/iris.data', header=None)"
   ]
  },
  {
   "cell_type": "code",
   "execution_count": 63,
   "id": "0cc80af6",
   "metadata": {
    "collapsed": true
   },
   "outputs": [
    {
     "data": {
      "text/html": [
       "<div>\n",
       "<style scoped>\n",
       "    .dataframe tbody tr th:only-of-type {\n",
       "        vertical-align: middle;\n",
       "    }\n",
       "\n",
       "    .dataframe tbody tr th {\n",
       "        vertical-align: top;\n",
       "    }\n",
       "\n",
       "    .dataframe thead th {\n",
       "        text-align: right;\n",
       "    }\n",
       "</style>\n",
       "<table border=\"1\" class=\"dataframe\">\n",
       "  <thead>\n",
       "    <tr style=\"text-align: right;\">\n",
       "      <th></th>\n",
       "      <th>sepal length</th>\n",
       "      <th>sepal width</th>\n",
       "      <th>petal length</th>\n",
       "      <th>petal width</th>\n",
       "      <th>flower_class</th>\n",
       "    </tr>\n",
       "  </thead>\n",
       "  <tbody>\n",
       "    <tr>\n",
       "      <th>0</th>\n",
       "      <td>5.1</td>\n",
       "      <td>3.5</td>\n",
       "      <td>1.4</td>\n",
       "      <td>0.2</td>\n",
       "      <td>Iris-setosa</td>\n",
       "    </tr>\n",
       "    <tr>\n",
       "      <th>1</th>\n",
       "      <td>4.9</td>\n",
       "      <td>3.0</td>\n",
       "      <td>1.4</td>\n",
       "      <td>0.2</td>\n",
       "      <td>Iris-setosa</td>\n",
       "    </tr>\n",
       "    <tr>\n",
       "      <th>2</th>\n",
       "      <td>4.7</td>\n",
       "      <td>3.2</td>\n",
       "      <td>1.3</td>\n",
       "      <td>0.2</td>\n",
       "      <td>Iris-setosa</td>\n",
       "    </tr>\n",
       "    <tr>\n",
       "      <th>3</th>\n",
       "      <td>4.6</td>\n",
       "      <td>3.1</td>\n",
       "      <td>1.5</td>\n",
       "      <td>0.2</td>\n",
       "      <td>Iris-setosa</td>\n",
       "    </tr>\n",
       "    <tr>\n",
       "      <th>4</th>\n",
       "      <td>5.0</td>\n",
       "      <td>3.6</td>\n",
       "      <td>1.4</td>\n",
       "      <td>0.2</td>\n",
       "      <td>Iris-setosa</td>\n",
       "    </tr>\n",
       "  </tbody>\n",
       "</table>\n",
       "</div>"
      ],
      "text/plain": [
       "   sepal length  sepal width  petal length  petal width flower_class\n",
       "0           5.1          3.5           1.4          0.2  Iris-setosa\n",
       "1           4.9          3.0           1.4          0.2  Iris-setosa\n",
       "2           4.7          3.2           1.3          0.2  Iris-setosa\n",
       "3           4.6          3.1           1.5          0.2  Iris-setosa\n",
       "4           5.0          3.6           1.4          0.2  Iris-setosa"
      ]
     },
     "execution_count": 63,
     "metadata": {},
     "output_type": "execute_result"
    }
   ],
   "source": [
    "data.columns = [\"sepal length\", \"sepal width\", \"petal length\", \"petal width\", \"flower_class\"]\n",
    "data.head()"
   ]
  },
  {
   "cell_type": "code",
   "execution_count": 66,
   "id": "9fc0fef0",
   "metadata": {
    "collapsed": true
   },
   "outputs": [
    {
     "data": {
      "text/html": [
       "<div>\n",
       "<style scoped>\n",
       "    .dataframe tbody tr th:only-of-type {\n",
       "        vertical-align: middle;\n",
       "    }\n",
       "\n",
       "    .dataframe tbody tr th {\n",
       "        vertical-align: top;\n",
       "    }\n",
       "\n",
       "    .dataframe thead th {\n",
       "        text-align: right;\n",
       "    }\n",
       "</style>\n",
       "<table border=\"1\" class=\"dataframe\">\n",
       "  <thead>\n",
       "    <tr style=\"text-align: right;\">\n",
       "      <th></th>\n",
       "      <th>sepal length</th>\n",
       "      <th>sepal width</th>\n",
       "      <th>petal length</th>\n",
       "      <th>petal width</th>\n",
       "    </tr>\n",
       "  </thead>\n",
       "  <tbody>\n",
       "    <tr>\n",
       "      <th>count</th>\n",
       "      <td>150.000000</td>\n",
       "      <td>150.000000</td>\n",
       "      <td>150.000000</td>\n",
       "      <td>150.000000</td>\n",
       "    </tr>\n",
       "    <tr>\n",
       "      <th>mean</th>\n",
       "      <td>5.843333</td>\n",
       "      <td>3.054000</td>\n",
       "      <td>3.758667</td>\n",
       "      <td>1.198667</td>\n",
       "    </tr>\n",
       "    <tr>\n",
       "      <th>std</th>\n",
       "      <td>0.828066</td>\n",
       "      <td>0.433594</td>\n",
       "      <td>1.764420</td>\n",
       "      <td>0.763161</td>\n",
       "    </tr>\n",
       "    <tr>\n",
       "      <th>min</th>\n",
       "      <td>4.300000</td>\n",
       "      <td>2.000000</td>\n",
       "      <td>1.000000</td>\n",
       "      <td>0.100000</td>\n",
       "    </tr>\n",
       "    <tr>\n",
       "      <th>25%</th>\n",
       "      <td>5.100000</td>\n",
       "      <td>2.800000</td>\n",
       "      <td>1.600000</td>\n",
       "      <td>0.300000</td>\n",
       "    </tr>\n",
       "    <tr>\n",
       "      <th>50%</th>\n",
       "      <td>5.800000</td>\n",
       "      <td>3.000000</td>\n",
       "      <td>4.350000</td>\n",
       "      <td>1.300000</td>\n",
       "    </tr>\n",
       "    <tr>\n",
       "      <th>75%</th>\n",
       "      <td>6.400000</td>\n",
       "      <td>3.300000</td>\n",
       "      <td>5.100000</td>\n",
       "      <td>1.800000</td>\n",
       "    </tr>\n",
       "    <tr>\n",
       "      <th>max</th>\n",
       "      <td>7.900000</td>\n",
       "      <td>4.400000</td>\n",
       "      <td>6.900000</td>\n",
       "      <td>2.500000</td>\n",
       "    </tr>\n",
       "  </tbody>\n",
       "</table>\n",
       "</div>"
      ],
      "text/plain": [
       "       sepal length  sepal width  petal length  petal width\n",
       "count    150.000000   150.000000    150.000000   150.000000\n",
       "mean       5.843333     3.054000      3.758667     1.198667\n",
       "std        0.828066     0.433594      1.764420     0.763161\n",
       "min        4.300000     2.000000      1.000000     0.100000\n",
       "25%        5.100000     2.800000      1.600000     0.300000\n",
       "50%        5.800000     3.000000      4.350000     1.300000\n",
       "75%        6.400000     3.300000      5.100000     1.800000\n",
       "max        7.900000     4.400000      6.900000     2.500000"
      ]
     },
     "execution_count": 66,
     "metadata": {},
     "output_type": "execute_result"
    }
   ],
   "source": [
    "# statistical summary\n",
    "data.describe()"
   ]
  },
  {
   "cell_type": "code",
   "execution_count": 50,
   "id": "1254ff3a",
   "metadata": {},
   "outputs": [
    {
     "data": {
      "text/plain": [
       "count             150\n",
       "unique              3\n",
       "top       Iris-setosa\n",
       "freq               50\n",
       "Name: flower_class, dtype: object"
      ]
     },
     "execution_count": 50,
     "metadata": {},
     "output_type": "execute_result"
    }
   ],
   "source": [
    "data[\"flower_class\"].describe()"
   ]
  },
  {
   "cell_type": "code",
   "execution_count": 58,
   "id": "5ce7003b",
   "metadata": {},
   "outputs": [
    {
     "data": {
      "text/plain": [
       "array(['Iris-setosa', 'Iris-versicolor', 'Iris-virginica'], dtype=object)"
      ]
     },
     "execution_count": 58,
     "metadata": {},
     "output_type": "execute_result"
    }
   ],
   "source": [
    "data[\"flower_class\"].unique()"
   ]
  },
  {
   "cell_type": "code",
   "execution_count": 19,
   "id": "bf546d10",
   "metadata": {
    "collapsed": true
   },
   "outputs": [
    {
     "data": {
      "text/html": [
       "<div>\n",
       "<style scoped>\n",
       "    .dataframe tbody tr th:only-of-type {\n",
       "        vertical-align: middle;\n",
       "    }\n",
       "\n",
       "    .dataframe tbody tr th {\n",
       "        vertical-align: top;\n",
       "    }\n",
       "\n",
       "    .dataframe thead th {\n",
       "        text-align: right;\n",
       "    }\n",
       "</style>\n",
       "<table border=\"1\" class=\"dataframe\">\n",
       "  <thead>\n",
       "    <tr style=\"text-align: right;\">\n",
       "      <th></th>\n",
       "      <th>0</th>\n",
       "      <th>1</th>\n",
       "      <th>2</th>\n",
       "      <th>3</th>\n",
       "      <th>4</th>\n",
       "    </tr>\n",
       "  </thead>\n",
       "  <tbody>\n",
       "    <tr>\n",
       "      <th>88</th>\n",
       "      <td>5.6</td>\n",
       "      <td>3.0</td>\n",
       "      <td>4.1</td>\n",
       "      <td>1.3</td>\n",
       "      <td>Iris-versicolor</td>\n",
       "    </tr>\n",
       "    <tr>\n",
       "      <th>109</th>\n",
       "      <td>7.2</td>\n",
       "      <td>3.6</td>\n",
       "      <td>6.1</td>\n",
       "      <td>2.5</td>\n",
       "      <td>Iris-virginica</td>\n",
       "    </tr>\n",
       "    <tr>\n",
       "      <th>77</th>\n",
       "      <td>6.7</td>\n",
       "      <td>3.0</td>\n",
       "      <td>5.0</td>\n",
       "      <td>1.7</td>\n",
       "      <td>Iris-versicolor</td>\n",
       "    </tr>\n",
       "    <tr>\n",
       "      <th>147</th>\n",
       "      <td>6.5</td>\n",
       "      <td>3.0</td>\n",
       "      <td>5.2</td>\n",
       "      <td>2.0</td>\n",
       "      <td>Iris-virginica</td>\n",
       "    </tr>\n",
       "    <tr>\n",
       "      <th>68</th>\n",
       "      <td>6.2</td>\n",
       "      <td>2.2</td>\n",
       "      <td>4.5</td>\n",
       "      <td>1.5</td>\n",
       "      <td>Iris-versicolor</td>\n",
       "    </tr>\n",
       "    <tr>\n",
       "      <th>54</th>\n",
       "      <td>6.5</td>\n",
       "      <td>2.8</td>\n",
       "      <td>4.6</td>\n",
       "      <td>1.5</td>\n",
       "      <td>Iris-versicolor</td>\n",
       "    </tr>\n",
       "    <tr>\n",
       "      <th>133</th>\n",
       "      <td>6.3</td>\n",
       "      <td>2.8</td>\n",
       "      <td>5.1</td>\n",
       "      <td>1.5</td>\n",
       "      <td>Iris-virginica</td>\n",
       "    </tr>\n",
       "    <tr>\n",
       "      <th>55</th>\n",
       "      <td>5.7</td>\n",
       "      <td>2.8</td>\n",
       "      <td>4.5</td>\n",
       "      <td>1.3</td>\n",
       "      <td>Iris-versicolor</td>\n",
       "    </tr>\n",
       "    <tr>\n",
       "      <th>64</th>\n",
       "      <td>5.6</td>\n",
       "      <td>2.9</td>\n",
       "      <td>3.6</td>\n",
       "      <td>1.3</td>\n",
       "      <td>Iris-versicolor</td>\n",
       "    </tr>\n",
       "    <tr>\n",
       "      <th>48</th>\n",
       "      <td>5.3</td>\n",
       "      <td>3.7</td>\n",
       "      <td>1.5</td>\n",
       "      <td>0.2</td>\n",
       "      <td>Iris-setosa</td>\n",
       "    </tr>\n",
       "  </tbody>\n",
       "</table>\n",
       "</div>"
      ],
      "text/plain": [
       "       0    1    2    3                4\n",
       "88   5.6  3.0  4.1  1.3  Iris-versicolor\n",
       "109  7.2  3.6  6.1  2.5   Iris-virginica\n",
       "77   6.7  3.0  5.0  1.7  Iris-versicolor\n",
       "147  6.5  3.0  5.2  2.0   Iris-virginica\n",
       "68   6.2  2.2  4.5  1.5  Iris-versicolor\n",
       "54   6.5  2.8  4.6  1.5  Iris-versicolor\n",
       "133  6.3  2.8  5.1  1.5   Iris-virginica\n",
       "55   5.7  2.8  4.5  1.3  Iris-versicolor\n",
       "64   5.6  2.9  3.6  1.3  Iris-versicolor\n",
       "48   5.3  3.7  1.5  0.2      Iris-setosa"
      ]
     },
     "execution_count": 19,
     "metadata": {},
     "output_type": "execute_result"
    }
   ],
   "source": [
    "data.sample(10)"
   ]
  },
  {
   "cell_type": "code",
   "execution_count": 61,
   "id": "fec4c5c6",
   "metadata": {},
   "outputs": [
    {
     "data": {
      "text/html": [
       "<div>\n",
       "<style scoped>\n",
       "    .dataframe tbody tr th:only-of-type {\n",
       "        vertical-align: middle;\n",
       "    }\n",
       "\n",
       "    .dataframe tbody tr th {\n",
       "        vertical-align: top;\n",
       "    }\n",
       "\n",
       "    .dataframe thead th {\n",
       "        text-align: right;\n",
       "    }\n",
       "</style>\n",
       "<table border=\"1\" class=\"dataframe\">\n",
       "  <thead>\n",
       "    <tr style=\"text-align: right;\">\n",
       "      <th></th>\n",
       "      <th>sepal length</th>\n",
       "      <th>sepal width</th>\n",
       "      <th>petal length</th>\n",
       "      <th>petal width</th>\n",
       "    </tr>\n",
       "    <tr>\n",
       "      <th>flower_class</th>\n",
       "      <th></th>\n",
       "      <th></th>\n",
       "      <th></th>\n",
       "      <th></th>\n",
       "    </tr>\n",
       "  </thead>\n",
       "  <tbody>\n",
       "    <tr>\n",
       "      <th>Iris-setosa</th>\n",
       "      <td>50</td>\n",
       "      <td>50</td>\n",
       "      <td>50</td>\n",
       "      <td>50</td>\n",
       "    </tr>\n",
       "    <tr>\n",
       "      <th>Iris-versicolor</th>\n",
       "      <td>50</td>\n",
       "      <td>50</td>\n",
       "      <td>50</td>\n",
       "      <td>50</td>\n",
       "    </tr>\n",
       "    <tr>\n",
       "      <th>Iris-virginica</th>\n",
       "      <td>50</td>\n",
       "      <td>50</td>\n",
       "      <td>50</td>\n",
       "      <td>50</td>\n",
       "    </tr>\n",
       "  </tbody>\n",
       "</table>\n",
       "</div>"
      ],
      "text/plain": [
       "                 sepal length  sepal width  petal length  petal width\n",
       "flower_class                                                         \n",
       "Iris-setosa                50           50            50           50\n",
       "Iris-versicolor            50           50            50           50\n",
       "Iris-virginica             50           50            50           50"
      ]
     },
     "execution_count": 61,
     "metadata": {},
     "output_type": "execute_result"
    }
   ],
   "source": [
    "data.groupby('flower_class').count()"
   ]
  },
  {
   "cell_type": "code",
   "execution_count": 67,
   "id": "225df791",
   "metadata": {},
   "outputs": [],
   "source": [
    "# Assign the features and labels to X and y respectively\n",
    "X = data.iloc[:, :-1].values\n",
    "y = data.iloc[:, -1].values"
   ]
  },
  {
   "cell_type": "code",
   "execution_count": 72,
   "id": "1088368f",
   "metadata": {},
   "outputs": [],
   "source": [
    "# Split the data into training and test sets\n",
    "X_train, X_test, y_train, y_test = train_test_split(X, y, test_size=0.2, random_state=42)"
   ]
  },
  {
   "cell_type": "code",
   "execution_count": 109,
   "id": "670fca80",
   "metadata": {
    "collapsed": true
   },
   "outputs": [
    {
     "name": "stdout",
     "output_type": "stream",
     "text": [
      "K-neightbours: 1\tK-fold: 3\tDistance Algo: euclidean\n",
      "Average Validation Accuracy: 94.17%\n",
      "Test Accuracy: 100.00%\n",
      "============================\n",
      "K-neightbours: 1\tK-fold: 3\tDistance Algo: manhattan\n",
      "Average Validation Accuracy: 93.33%\n",
      "Test Accuracy: 100.00%\n",
      "============================\n",
      "K-neightbours: 1\tK-fold: 3\tDistance Algo: minkowski\n",
      "Average Validation Accuracy: 94.17%\n",
      "Test Accuracy: 100.00%\n",
      "============================\n",
      "K-neightbours: 1\tK-fold: 5\tDistance Algo: euclidean\n",
      "Average Validation Accuracy: 94.17%\n",
      "Test Accuracy: 100.00%\n",
      "============================\n",
      "K-neightbours: 1\tK-fold: 5\tDistance Algo: manhattan\n",
      "Average Validation Accuracy: 93.33%\n",
      "Test Accuracy: 100.00%\n",
      "============================\n",
      "K-neightbours: 1\tK-fold: 5\tDistance Algo: minkowski\n",
      "Average Validation Accuracy: 94.17%\n",
      "Test Accuracy: 100.00%\n",
      "============================\n",
      "K-neightbours: 1\tK-fold: 10\tDistance Algo: euclidean\n",
      "Average Validation Accuracy: 94.17%\n",
      "Test Accuracy: 100.00%\n",
      "============================\n",
      "K-neightbours: 1\tK-fold: 10\tDistance Algo: manhattan\n",
      "Average Validation Accuracy: 93.33%\n",
      "Test Accuracy: 100.00%\n",
      "============================\n",
      "K-neightbours: 1\tK-fold: 10\tDistance Algo: minkowski\n",
      "Average Validation Accuracy: 94.17%\n",
      "Test Accuracy: 100.00%\n",
      "============================\n",
      "K-neightbours: 3\tK-fold: 3\tDistance Algo: euclidean\n",
      "Average Validation Accuracy: 95.00%\n",
      "Test Accuracy: 100.00%\n",
      "============================\n",
      "K-neightbours: 3\tK-fold: 3\tDistance Algo: manhattan\n",
      "Average Validation Accuracy: 95.00%\n",
      "Test Accuracy: 100.00%\n",
      "============================\n",
      "K-neightbours: 3\tK-fold: 3\tDistance Algo: minkowski\n",
      "Average Validation Accuracy: 95.00%\n",
      "Test Accuracy: 100.00%\n",
      "============================\n",
      "K-neightbours: 3\tK-fold: 5\tDistance Algo: euclidean\n",
      "Average Validation Accuracy: 95.00%\n",
      "Test Accuracy: 100.00%\n",
      "============================\n",
      "K-neightbours: 3\tK-fold: 5\tDistance Algo: manhattan\n",
      "Average Validation Accuracy: 95.00%\n",
      "Test Accuracy: 100.00%\n",
      "============================\n",
      "K-neightbours: 3\tK-fold: 5\tDistance Algo: minkowski\n",
      "Average Validation Accuracy: 95.00%\n",
      "Test Accuracy: 100.00%\n",
      "============================\n",
      "K-neightbours: 3\tK-fold: 10\tDistance Algo: euclidean\n",
      "Average Validation Accuracy: 95.00%\n",
      "Test Accuracy: 100.00%\n",
      "============================\n",
      "K-neightbours: 3\tK-fold: 10\tDistance Algo: manhattan\n",
      "Average Validation Accuracy: 95.00%\n",
      "Test Accuracy: 100.00%\n",
      "============================\n",
      "K-neightbours: 3\tK-fold: 10\tDistance Algo: minkowski\n",
      "Average Validation Accuracy: 95.00%\n",
      "Test Accuracy: 100.00%\n",
      "============================\n",
      "K-neightbours: 5\tK-fold: 3\tDistance Algo: euclidean\n",
      "Average Validation Accuracy: 95.00%\n",
      "Test Accuracy: 100.00%\n",
      "============================\n",
      "K-neightbours: 5\tK-fold: 3\tDistance Algo: manhattan\n",
      "Average Validation Accuracy: 93.33%\n",
      "Test Accuracy: 100.00%\n",
      "============================\n",
      "K-neightbours: 5\tK-fold: 3\tDistance Algo: minkowski\n",
      "Average Validation Accuracy: 96.67%\n",
      "Test Accuracy: 96.67%\n",
      "============================\n",
      "K-neightbours: 5\tK-fold: 5\tDistance Algo: euclidean\n",
      "Average Validation Accuracy: 95.00%\n",
      "Test Accuracy: 100.00%\n",
      "============================\n",
      "K-neightbours: 5\tK-fold: 5\tDistance Algo: manhattan\n",
      "Average Validation Accuracy: 93.33%\n",
      "Test Accuracy: 100.00%\n",
      "============================\n",
      "K-neightbours: 5\tK-fold: 5\tDistance Algo: minkowski\n",
      "Average Validation Accuracy: 96.67%\n",
      "Test Accuracy: 96.67%\n",
      "============================\n",
      "K-neightbours: 5\tK-fold: 10\tDistance Algo: euclidean\n",
      "Average Validation Accuracy: 95.00%\n",
      "Test Accuracy: 100.00%\n",
      "============================\n",
      "K-neightbours: 5\tK-fold: 10\tDistance Algo: manhattan\n",
      "Average Validation Accuracy: 93.33%\n",
      "Test Accuracy: 100.00%\n",
      "============================\n",
      "K-neightbours: 5\tK-fold: 10\tDistance Algo: minkowski\n",
      "Average Validation Accuracy: 96.67%\n",
      "Test Accuracy: 96.67%\n",
      "============================\n",
      "K-neightbours: 7\tK-fold: 3\tDistance Algo: euclidean\n",
      "Average Validation Accuracy: 95.83%\n",
      "Test Accuracy: 96.67%\n",
      "============================\n",
      "K-neightbours: 7\tK-fold: 3\tDistance Algo: manhattan\n",
      "Average Validation Accuracy: 95.00%\n",
      "Test Accuracy: 100.00%\n",
      "============================\n",
      "K-neightbours: 7\tK-fold: 3\tDistance Algo: minkowski\n",
      "Average Validation Accuracy: 96.67%\n",
      "Test Accuracy: 100.00%\n",
      "============================\n",
      "K-neightbours: 7\tK-fold: 5\tDistance Algo: euclidean\n",
      "Average Validation Accuracy: 95.83%\n",
      "Test Accuracy: 96.67%\n",
      "============================\n",
      "K-neightbours: 7\tK-fold: 5\tDistance Algo: manhattan\n",
      "Average Validation Accuracy: 95.00%\n",
      "Test Accuracy: 100.00%\n",
      "============================\n",
      "K-neightbours: 7\tK-fold: 5\tDistance Algo: minkowski\n",
      "Average Validation Accuracy: 96.67%\n",
      "Test Accuracy: 100.00%\n",
      "============================\n",
      "K-neightbours: 7\tK-fold: 10\tDistance Algo: euclidean\n",
      "Average Validation Accuracy: 95.83%\n",
      "Test Accuracy: 96.67%\n",
      "============================\n",
      "K-neightbours: 7\tK-fold: 10\tDistance Algo: manhattan\n",
      "Average Validation Accuracy: 95.00%\n",
      "Test Accuracy: 100.00%\n",
      "============================\n",
      "K-neightbours: 7\tK-fold: 10\tDistance Algo: minkowski\n",
      "Average Validation Accuracy: 96.67%\n",
      "Test Accuracy: 100.00%\n",
      "============================\n",
      "K-neightbours: 9\tK-fold: 3\tDistance Algo: euclidean\n",
      "Average Validation Accuracy: 95.83%\n",
      "Test Accuracy: 100.00%\n",
      "============================\n",
      "K-neightbours: 9\tK-fold: 3\tDistance Algo: manhattan\n",
      "Average Validation Accuracy: 95.00%\n",
      "Test Accuracy: 96.67%\n",
      "============================\n",
      "K-neightbours: 9\tK-fold: 3\tDistance Algo: minkowski\n",
      "Average Validation Accuracy: 96.67%\n",
      "Test Accuracy: 100.00%\n",
      "============================\n",
      "K-neightbours: 9\tK-fold: 5\tDistance Algo: euclidean\n",
      "Average Validation Accuracy: 95.83%\n",
      "Test Accuracy: 100.00%\n",
      "============================\n",
      "K-neightbours: 9\tK-fold: 5\tDistance Algo: manhattan\n",
      "Average Validation Accuracy: 95.00%\n",
      "Test Accuracy: 96.67%\n",
      "============================\n",
      "K-neightbours: 9\tK-fold: 5\tDistance Algo: minkowski\n",
      "Average Validation Accuracy: 96.67%\n",
      "Test Accuracy: 100.00%\n",
      "============================\n",
      "K-neightbours: 9\tK-fold: 10\tDistance Algo: euclidean\n",
      "Average Validation Accuracy: 95.83%\n",
      "Test Accuracy: 100.00%\n",
      "============================\n",
      "K-neightbours: 9\tK-fold: 10\tDistance Algo: manhattan\n",
      "Average Validation Accuracy: 95.00%\n",
      "Test Accuracy: 96.67%\n",
      "============================\n",
      "K-neightbours: 9\tK-fold: 10\tDistance Algo: minkowski\n",
      "Average Validation Accuracy: 96.67%\n",
      "Test Accuracy: 100.00%\n",
      "============================\n",
      "K-neightbours: 11\tK-fold: 3\tDistance Algo: euclidean\n",
      "Average Validation Accuracy: 97.50%\n",
      "Test Accuracy: 100.00%\n",
      "============================\n",
      "K-neightbours: 11\tK-fold: 3\tDistance Algo: manhattan\n",
      "Average Validation Accuracy: 96.67%\n",
      "Test Accuracy: 100.00%\n",
      "============================\n",
      "K-neightbours: 11\tK-fold: 3\tDistance Algo: minkowski\n",
      "Average Validation Accuracy: 97.50%\n",
      "Test Accuracy: 100.00%\n",
      "============================\n",
      "K-neightbours: 11\tK-fold: 5\tDistance Algo: euclidean\n",
      "Average Validation Accuracy: 97.50%\n",
      "Test Accuracy: 100.00%\n",
      "============================\n",
      "K-neightbours: 11\tK-fold: 5\tDistance Algo: manhattan\n",
      "Average Validation Accuracy: 96.67%\n",
      "Test Accuracy: 100.00%\n",
      "============================\n",
      "K-neightbours: 11\tK-fold: 5\tDistance Algo: minkowski\n",
      "Average Validation Accuracy: 97.50%\n",
      "Test Accuracy: 100.00%\n",
      "============================\n",
      "K-neightbours: 11\tK-fold: 10\tDistance Algo: euclidean\n",
      "Average Validation Accuracy: 97.50%\n",
      "Test Accuracy: 100.00%\n",
      "============================\n",
      "K-neightbours: 11\tK-fold: 10\tDistance Algo: manhattan\n",
      "Average Validation Accuracy: 96.67%\n",
      "Test Accuracy: 100.00%\n",
      "============================\n",
      "K-neightbours: 11\tK-fold: 10\tDistance Algo: minkowski\n",
      "Average Validation Accuracy: 97.50%\n",
      "Test Accuracy: 100.00%\n",
      "============================\n",
      "K-neightbours: 13\tK-fold: 3\tDistance Algo: euclidean\n",
      "Average Validation Accuracy: 96.67%\n",
      "Test Accuracy: 100.00%\n",
      "============================\n",
      "K-neightbours: 13\tK-fold: 3\tDistance Algo: manhattan\n",
      "Average Validation Accuracy: 98.33%\n",
      "Test Accuracy: 100.00%\n",
      "============================\n",
      "K-neightbours: 13\tK-fold: 3\tDistance Algo: minkowski\n",
      "Average Validation Accuracy: 97.50%\n",
      "Test Accuracy: 100.00%\n",
      "============================\n",
      "K-neightbours: 13\tK-fold: 5\tDistance Algo: euclidean\n",
      "Average Validation Accuracy: 96.67%\n",
      "Test Accuracy: 100.00%\n",
      "============================\n",
      "K-neightbours: 13\tK-fold: 5\tDistance Algo: manhattan\n",
      "Average Validation Accuracy: 98.33%\n",
      "Test Accuracy: 100.00%\n",
      "============================\n",
      "K-neightbours: 13\tK-fold: 5\tDistance Algo: minkowski\n",
      "Average Validation Accuracy: 97.50%\n",
      "Test Accuracy: 100.00%\n",
      "============================\n",
      "K-neightbours: 13\tK-fold: 10\tDistance Algo: euclidean\n",
      "Average Validation Accuracy: 96.67%\n",
      "Test Accuracy: 100.00%\n",
      "============================\n",
      "K-neightbours: 13\tK-fold: 10\tDistance Algo: manhattan\n",
      "Average Validation Accuracy: 98.33%\n",
      "Test Accuracy: 100.00%\n",
      "============================\n",
      "K-neightbours: 13\tK-fold: 10\tDistance Algo: minkowski\n",
      "Average Validation Accuracy: 97.50%\n",
      "Test Accuracy: 100.00%\n",
      "============================\n"
     ]
    }
   ],
   "source": [
    "# Set the number of neighbors to consider (k)\n",
    "k_lst = [1, 3, 5, 7, 9, 11, 13]\n",
    "\n",
    "# Set the number of folds for k-fold cross-validation\n",
    "k_folds_lst = [3, 5, 10]\n",
    "\n",
    "# Set the distance measure to use\n",
    "distance_measure_lst = ['euclidean', 'manhattan', 'minkowski']\n",
    "\n",
    "# Initialize the cross-validation folds\n",
    "kfold = KFold(n_splits=k_folds, shuffle=True, random_state=42)\n",
    "\n",
    "# Initialize the accuracy scores\n",
    "val_accuracies = []\n",
    "\n",
    "for k in k_lst:\n",
    "    for k_folds in k_folds_lst:\n",
    "        for distance_measure in distance_measure_lst:\n",
    "            print(f\"K-neightbours: {k}\\tK-fold: {k_folds}\\tDistance Algo: {distance_measure}\")\n",
    "            # Initialize the accuracy scores\n",
    "            val_accuracies = []\n",
    "            # Perform k-fold cross-validation\n",
    "            for train_index, val_index in kfold.split(X_train):\n",
    "                X_cv_train, X_cv_val = X_train[train_index], X_train[val_index]\n",
    "                y_cv_train, y_cv_val = y_train[train_index], y_train[val_index]\n",
    "\n",
    "                val_predictions = []\n",
    "                for x in X_cv_val:\n",
    "                    val_predictions.append(knn(X_cv_train, y_cv_train, x, k, distance_measure))\n",
    "\n",
    "                val_accuracy = np.mean(val_predictions == y_cv_val)\n",
    "                val_accuracies.append(val_accuracy)\n",
    "            \n",
    "            # Calculate the average validation accuracy score\n",
    "            avg_val_accuracy = np.mean(val_accuracies)\n",
    "            print(\"Average Validation Accuracy: {:.2f}%\".format(avg_val_accuracy * 100))\n",
    "            \n",
    "            # Calculate the test accuracy\n",
    "            test_predictions = []\n",
    "            for x in X_test:\n",
    "                test_predictions.append(knn(X_train, y_train, x, k, distance_measure))\n",
    "            test_accuracy = np.mean(test_predictions == y_test)\n",
    "            print(\"Test Accuracy: {:.2f}%\".format(test_accuracy * 100))\n",
    "            print(\"============================\")"
   ]
  },
  {
   "cell_type": "code",
   "execution_count": 85,
   "id": "cfc86a8f",
   "metadata": {
    "collapsed": true
   },
   "outputs": [
    {
     "name": "stdout",
     "output_type": "stream",
     "text": [
      "Train Data:  [  1   2   3   5   6   7   8   9  12  13  14  15  16  17  19  20  21  22\n",
      "  23  24  25  27  28  29  30  32  33  34  35  37  38  39  41  42  43  46\n",
      "  48  49  50  51  52  53  54  56  57  58  59  60  61  63  66  67  68  69\n",
      "  71  72  74  75  76  77  78  79  80  81  82  83  84  85  86  87  90  92\n",
      "  93  94  95  96  97  98  99 100 101 102 103 105 106 108 110 111 112 113\n",
      " 114 115 116 117 118 119]\n",
      "Train Data Length:  96 \n",
      "\n",
      "Validation Data:  [  0   4  10  11  18  26  31  36  40  44  45  47  55  62  64  65  70  73\n",
      "  88  89  91 104 107 109]\n",
      "Validation Data Length:  24\n",
      "---------------------------\n",
      "Train Data:  [  0   1   2   3   4   6   7   8  10  11  13  14  16  17  18  19  20  21\n",
      "  23  26  27  29  31  32  34  35  36  37  38  39  40  41  43  44  45  46\n",
      "  47  48  49  50  51  52  54  55  57  58  59  60  61  62  63  64  65  66\n",
      "  67  68  70  71  72  73  74  75  77  79  80  81  82  83  84  86  87  88\n",
      "  89  91  92  93  94  95  99 100 101 102 103 104 105 106 107 108 109 111\n",
      " 112 113 115 116 117 119]\n",
      "Train Data Length:  96 \n",
      "\n",
      "Validation Data:  [  5   9  12  15  22  24  25  28  30  33  42  53  56  69  76  78  85  90\n",
      "  96  97  98 110 114 118]\n",
      "Validation Data Length:  24\n",
      "---------------------------\n",
      "Train Data:  [  0   1   2   4   5   6   9  10  11  12  14  15  18  20  21  22  23  24\n",
      "  25  26  28  29  30  31  32  33  36  37  40  41  42  44  45  46  47  48\n",
      "  50  51  52  53  54  55  56  57  58  59  60  61  62  63  64  65  69  70\n",
      "  71  73  74  75  76  77  78  79  80  81  82  85  86  87  88  89  90  91\n",
      "  92  93  94  96  97  98  99 101 102 103 104 105 106 107 108 109 110 111\n",
      " 112 114 115 116 118 119]\n",
      "Train Data Length:  96 \n",
      "\n",
      "Validation Data:  [  3   7   8  13  16  17  19  27  34  35  38  39  43  49  66  67  68  72\n",
      "  83  84  95 100 113 117]\n",
      "Validation Data Length:  24\n",
      "---------------------------\n",
      "Train Data:  [  0   1   2   3   4   5   7   8   9  10  11  12  13  14  15  16  17  18\n",
      "  19  20  21  22  23  24  25  26  27  28  29  30  31  33  34  35  36  37\n",
      "  38  39  40  42  43  44  45  47  49  51  52  53  55  56  60  62  64  65\n",
      "  66  67  68  69  70  71  72  73  74  76  78  82  83  84  85  86  87  88\n",
      "  89  90  91  92  95  96  97  98  99 100 102 103 104 106 107 108 109 110\n",
      " 113 114 115 117 118 119]\n",
      "Train Data Length:  96 \n",
      "\n",
      "Validation Data:  [  6  32  41  46  48  50  54  57  58  59  61  63  75  77  79  80  81  93\n",
      "  94 101 105 111 112 116]\n",
      "Validation Data Length:  24\n",
      "---------------------------\n",
      "Train Data:  [  0   3   4   5   6   7   8   9  10  11  12  13  15  16  17  18  19  22\n",
      "  24  25  26  27  28  30  31  32  33  34  35  36  38  39  40  41  42  43\n",
      "  44  45  46  47  48  49  50  53  54  55  56  57  58  59  61  62  63  64\n",
      "  65  66  67  68  69  70  72  73  75  76  77  78  79  80  81  83  84  85\n",
      "  88  89  90  91  93  94  95  96  97  98 100 101 104 105 107 109 110 111\n",
      " 112 113 114 116 117 118]\n",
      "Train Data Length:  96 \n",
      "\n",
      "Validation Data:  [  1   2  14  20  21  23  29  37  51  52  60  71  74  82  86  87  92  99\n",
      " 102 103 106 108 115 119]\n",
      "Validation Data Length:  24\n",
      "---------------------------\n"
     ]
    }
   ],
   "source": [
    "# understanding kfold splitng and its output\n",
    "for t_i, v_i in kfold.split(X_train):\n",
    "    print(\"Train Data: \", t_i)\n",
    "    print(\"Train Data Length: \", len(t_i), '\\n')\n",
    "    print(\"Validation Data: \", v_i)\n",
    "    print(\"Validation Data Length: \", len(v_i))\n",
    "    print('---------------------------')"
   ]
  },
  {
   "cell_type": "code",
   "execution_count": 100,
   "id": "46c6e850",
   "metadata": {},
   "outputs": [
    {
     "data": {
      "text/plain": [
       "[0.9166666666666666,\n",
       " 0.9583333333333334,\n",
       " 0.9166666666666666,\n",
       " 0.9166666666666666,\n",
       " 1.0]"
      ]
     },
     "execution_count": 100,
     "metadata": {},
     "output_type": "execute_result"
    }
   ],
   "source": [
    "val_accuracies"
   ]
  },
  {
   "cell_type": "code",
   "execution_count": 101,
   "id": "cbac365b",
   "metadata": {},
   "outputs": [
    {
     "name": "stdout",
     "output_type": "stream",
     "text": [
      "Average Validation Accuracy: 94.17%\n"
     ]
    }
   ],
   "source": [
    "# Calculate the average validation accuracy score\n",
    "avg_val_accuracy = np.mean(val_accuracies)\n",
    "print(\"Average Validation Accuracy: {:.2f}%\".format(avg_val_accuracy * 100))"
   ]
  },
  {
   "cell_type": "code",
   "execution_count": 102,
   "id": "962547d8",
   "metadata": {},
   "outputs": [
    {
     "name": "stdout",
     "output_type": "stream",
     "text": [
      "Test Accuracy: 100.00%\n"
     ]
    }
   ],
   "source": [
    "# Calculate the test accuracy\n",
    "test_predictions = []\n",
    "for x in X_test:\n",
    "    test_predictions.append(knn(X_train, y_train, x, k, distance_measure))\n",
    "test_accuracy = np.mean(test_predictions == y_test)\n",
    "print(\"Test Accuracy: {:.2f}%\".format(test_accuracy * 100))"
   ]
  },
  {
   "cell_type": "code",
   "execution_count": 103,
   "id": "884ca35c",
   "metadata": {
    "scrolled": true
   },
   "outputs": [
    {
     "name": "stdout",
     "output_type": "stream",
     "text": [
      "Confusion Matrix:\n",
      "[[10  0  0]\n",
      " [ 0  9  0]\n",
      " [ 0  0 11]]\n"
     ]
    }
   ],
   "source": [
    "# Calculate the confusion matrix on the test data\n",
    "cm = confusion_matrix(y_test, test_predictions)\n",
    "print(\"Confusion Matrix:\")\n",
    "print(cm)"
   ]
  },
  {
   "cell_type": "code",
   "execution_count": null,
   "id": "e7615d0a",
   "metadata": {},
   "outputs": [],
   "source": []
  }
 ],
 "metadata": {
  "kernelspec": {
   "display_name": "Python 3 (ipykernel)",
   "language": "python",
   "name": "python3"
  },
  "language_info": {
   "codemirror_mode": {
    "name": "ipython",
    "version": 3
   },
   "file_extension": ".py",
   "mimetype": "text/x-python",
   "name": "python",
   "nbconvert_exporter": "python",
   "pygments_lexer": "ipython3",
   "version": "3.9.12"
  }
 },
 "nbformat": 4,
 "nbformat_minor": 5
}
