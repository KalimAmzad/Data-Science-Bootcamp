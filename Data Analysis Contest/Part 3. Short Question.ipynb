{
 "cells": [
  {
   "cell_type": "markdown",
   "id": "29ff5139",
   "metadata": {},
   "source": [
    "# Part 3. Short Question/MCQ - 20"
   ]
  },
  {
   "cell_type": "markdown",
   "id": "9e3ac5f4",
   "metadata": {},
   "source": [
    "#### Question 1: Marks 3\n",
    "You have \\$10,000 to invest in three companies\n",
    "- Company 1 yields 99\\% with a chance of 10\\%.\n",
    "- Company 2 yields 10\\% 99\\% of the time.\n",
    "- Company 3 yields 1000\\% 1\\% of the time.\n",
    "    + a) What is the probability that all companies make profit?\n",
    "    + b) What is the expected return of company 1 when investing $10,000?\n",
    "    + c) What is the probability that no company makes profit?\n"
   ]
  },
  {
   "cell_type": "code",
   "execution_count": null,
   "id": "988c07a3",
   "metadata": {},
   "outputs": [],
   "source": []
  },
  {
   "cell_type": "markdown",
   "id": "0f7ffbd1",
   "metadata": {},
   "source": [
    "#### Question 2: Marks 2\n",
    "The situation: ”You invest everything in one stock. One year later you have either the same/more money or you lost some” can be modeled by which distribution?\n",
    "- i) Bernouli Distribution\n",
    "- ii) Binomial Distribution\n",
    "- iii) Gaussian/Normal Distribution\n",
    "- iv) Uniform Distribution"
   ]
  },
  {
   "cell_type": "code",
   "execution_count": null,
   "id": "5f8fcb8b",
   "metadata": {},
   "outputs": [],
   "source": []
  },
  {
   "cell_type": "markdown",
   "id": "00558793",
   "metadata": {},
   "source": [
    "#### Question 3: Marks 3\n",
    "According to [statista](https://www.statista.com/statistics/1126823/worldwide-developer-gender/), roughly 92% of the worldwide software engineers are male. What is the probability that if you select 10 software engineers at random, there are exactly 9 males? What is the probability that there more or less than 9 males?\n"
   ]
  },
  {
   "cell_type": "code",
   "execution_count": null,
   "id": "bb86526d",
   "metadata": {},
   "outputs": [],
   "source": []
  },
  {
   "cell_type": "markdown",
   "id": "9337bbc6",
   "metadata": {},
   "source": [
    "#### Question 4: Marks 3\n",
    "A dice (1-6) is thrown 10 times and the sum of the 10 rolls is noted.\n",
    "- a) What is the expected sum?\n",
    "- b) What is the distribution?\n"
   ]
  },
  {
   "cell_type": "code",
   "execution_count": null,
   "id": "ef500a61",
   "metadata": {},
   "outputs": [],
   "source": []
  },
  {
   "cell_type": "markdown",
   "id": "0d927666",
   "metadata": {},
   "source": [
    "#### Question 5: Marks 4+5\n",
    "You want to compare two stocks. The following averaged monthly returns were yielded by stock A and B, respectively:\n",
    "![part_3_question_5.png](part_3_question_5.png)\n",
    "- a) Compute the covariance between the two stocks. What does this value mean?\n",
    "- b) Compute the pearson coefficient based on the above values."
   ]
  },
  {
   "cell_type": "code",
   "execution_count": null,
   "id": "d04cc4b4",
   "metadata": {},
   "outputs": [],
   "source": []
  },
  {
   "cell_type": "code",
   "execution_count": null,
   "id": "757fcb93",
   "metadata": {},
   "outputs": [],
   "source": []
  }
 ],
 "metadata": {
  "kernelspec": {
   "display_name": "Python 3 (ipykernel)",
   "language": "python",
   "name": "python3"
  },
  "language_info": {
   "codemirror_mode": {
    "name": "ipython",
    "version": 3
   },
   "file_extension": ".py",
   "mimetype": "text/x-python",
   "name": "python",
   "nbconvert_exporter": "python",
   "pygments_lexer": "ipython3",
   "version": "3.9.12"
  }
 },
 "nbformat": 4,
 "nbformat_minor": 5
}
