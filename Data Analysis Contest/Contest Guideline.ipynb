{
 "cells": [
  {
   "cell_type": "markdown",
   "id": "5042e025",
   "metadata": {},
   "source": [
    "## Data Analytics Contest\n",
    "\n",
    "#### Question Guideline and Marks Distribution - 100\n"
   ]
  },
  {
   "cell_type": "markdown",
   "id": "c996cdab",
   "metadata": {},
   "source": [
    "### 1. Guided instruction to solve the problem - 40\n",
    "\n",
    "Your will be given a few questions that need to answer by analysing the dataset\n",
    "\n",
    "- Problem Solving - 30\n",
    "- Clean Code, Documentation & Conclusion - 10\n",
    "    + Relavent variable naming\n",
    "    + proper comment \n",
    "    + reusibility of the code"
   ]
  },
  {
   "cell_type": "markdown",
   "id": "6e5c11ae",
   "metadata": {},
   "source": [
    "### 2. Unguided patter question - 40\n",
    "<p> You are given a dataset</p>\n",
    "<p>You need to think all critical questions and find out the answer</p>\n",
    "\n",
    "- Problem Solving - 25\n",
    "- Critical question finding and meaningful insights briefings - 8\n",
    "- Clean Code & Documentation - 7\n",
    "    + Relavent variable naming\n",
    "    + proper comment \n",
    "    + reusibility of the code\n",
    "\n"
   ]
  },
  {
   "cell_type": "markdown",
   "id": "bcc13a28",
   "metadata": {},
   "source": [
    "### 3. Short Question/MCQ - 20"
   ]
  },
  {
   "cell_type": "code",
   "execution_count": null,
   "id": "2ebc4397",
   "metadata": {},
   "outputs": [],
   "source": []
  }
 ],
 "metadata": {
  "kernelspec": {
   "display_name": "Python 3 (ipykernel)",
   "language": "python",
   "name": "python3"
  },
  "language_info": {
   "codemirror_mode": {
    "name": "ipython",
    "version": 3
   },
   "file_extension": ".py",
   "mimetype": "text/x-python",
   "name": "python",
   "nbconvert_exporter": "python",
   "pygments_lexer": "ipython3",
   "version": "3.9.12"
  }
 },
 "nbformat": 4,
 "nbformat_minor": 5
}
